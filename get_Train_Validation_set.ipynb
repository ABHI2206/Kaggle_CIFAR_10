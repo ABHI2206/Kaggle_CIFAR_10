{
 "cells": [
  {
   "cell_type": "code",
   "execution_count": 3,
   "metadata": {},
   "outputs": [
    {
     "name": "stderr",
     "output_type": "stream",
     "text": [
      "Using TensorFlow backend.\n"
     ]
    }
   ],
   "source": [
    "import os\n",
    "import numpy as np\n",
    "import matplotlib.image as mpimg\n",
    "import matplotlib.pyplot as plt\n",
    "from scipy import misc\n",
    "import random\n",
    "import keras"
   ]
  },
  {
   "cell_type": "code",
   "execution_count": 23,
   "metadata": {
    "collapsed": true
   },
   "outputs": [],
   "source": [
    "\n",
    "\n",
    "def get_train_set():\n",
    "\n",
    "    i = 0\n",
    "    train_num_images = 0\n",
    "    images = []\n",
    "    y = []\n",
    "    Y_dict = {}\n",
    "    for dirnames in os.listdir(\"data/train_data\"):\n",
    "#         print(dirnames)\n",
    "        Y_dict[dirnames] = i\n",
    "        for filename in os.listdir(\"data/train_data/\"+ dirnames):\n",
    "            train_num_images = train_num_images + 1\n",
    "            #print(filenames,\"\\n\")\n",
    "            # img = mpimg.imread(\"data/train_valid/\"+ dirnames + \"/\" + filename) or  img =  misc.imread(\"data/train_valid/\"+ dirnames + \"/\" + filename)\n",
    "            img =  misc.imread(\"data/train_data/\"+ dirnames + \"/\" + filename)\n",
    "    #         plt.imshow(img)\n",
    "    #         plt.show()\n",
    "            img = misc.imresize(img , (224,224,3) )\n",
    "            if img is not None:\n",
    "                images.append(img)\n",
    "                y.append(i)\n",
    "    #             print(img)\n",
    "    #             print(y)\n",
    "\n",
    "        i = i + 1\n",
    "    \n",
    "    c = list(zip(images, y))\n",
    "\n",
    "    random.shuffle(c)\n",
    "\n",
    "    X,Y = zip(*c)\n",
    "    \n",
    "    train_set = np.reshape(X , (train_num_images,224,224,3) )\n",
    "    train_out = keras.utils.to_categorical(Y,num_classes=10)\n",
    "    \n",
    "    return (train_set , train_out)\n"
   ]
  },
  {
   "cell_type": "code",
   "execution_count": null,
   "metadata": {
    "collapsed": true
   },
   "outputs": [],
   "source": []
  },
  {
   "cell_type": "code",
   "execution_count": 6,
   "metadata": {
    "collapsed": true
   },
   "outputs": [],
   "source": [
    "# FOr valid_data\n",
    "\n",
    "def get_valid_data():\n",
    "    i = 0\n",
    "    valid_num_images = 0\n",
    "    v_images = []\n",
    "    v_y = []\n",
    "    v_Y_dict = {}\n",
    "    for v_dirnames in os.listdir(\"data/valid_data\"):\n",
    "#         print(v_dirnames)\n",
    "        v_Y_dict[v_dirnames] = i\n",
    "        for v_filename in os.listdir(\"data/valid_data/\"+ v_dirnames):\n",
    "            valid_num_images = valid_num_images + 1\n",
    "            #print(filenames,\"\\n\")\n",
    "            # img = mpimg.imread(\"data/train_valid/\"+ dirnames + \"/\" + filename) or  img =  misc.imread(\"data/train_valid/\"+ dirnames + \"/\" + filename)\n",
    "            v_img =  misc.imread(\"data/valid_data/\"+ v_dirnames + \"/\" + v_filename)\n",
    "    #         plt.imshow(v_img)\n",
    "    #         plt.show()\n",
    "            v_img = misc.imresize(v_img , (224,224,3) )\n",
    "            if v_img is not None:\n",
    "                v_images.append(v_img)\n",
    "                v_y.append(i)\n",
    "    #             print(v_img)\n",
    "    #             print(v_y)\n",
    "\n",
    "        i = i + 1\n",
    "        \n",
    "    v_c = list(zip(v_images, v_y))\n",
    "\n",
    "    random.shuffle(v_c)\n",
    "\n",
    "    v_X,v_Y = zip(*v_c)\n",
    "    \n",
    "    validation_set = np.reshape(v_X , (valid_num_images,224,224,3) )\n",
    "    validation_out = keras.utils.to_categorical(v_Y,num_classes=10)\n",
    "    \n",
    "    return (validation_set,validation_out)\n",
    "        "
   ]
  },
  {
   "cell_type": "code",
   "execution_count": 26,
   "metadata": {
    "collapsed": true
   },
   "outputs": [],
   "source": [
    "train_data = get_train_set()"
   ]
  },
  {
   "cell_type": "code",
   "execution_count": 27,
   "metadata": {},
   "outputs": [
    {
     "name": "stdout",
     "output_type": "stream",
     "text": [
      "(45000, 224, 224, 3)\n"
     ]
    }
   ],
   "source": [
    "print(train_data[0].shape)"
   ]
  },
  {
   "cell_type": "code",
   "execution_count": 11,
   "metadata": {},
   "outputs": [
    {
     "name": "stdout",
     "output_type": "stream",
     "text": [
      "[[ 0.  0.  0. ...,  0.  0.  1.]\n",
      " [ 0.  0.  0. ...,  0.  0.  0.]\n",
      " [ 1.  0.  0. ...,  0.  0.  0.]\n",
      " ..., \n",
      " [ 0.  0.  0. ...,  0.  0.  1.]\n",
      " [ 0.  0.  1. ...,  0.  0.  0.]\n",
      " [ 1.  0.  0. ...,  0.  0.  0.]]\n"
     ]
    }
   ],
   "source": [
    "# print(train_data[1])"
   ]
  },
  {
   "cell_type": "code",
   "execution_count": 7,
   "metadata": {},
   "outputs": [],
   "source": [
    "valid_data = get_valid_data()"
   ]
  },
  {
   "cell_type": "code",
   "execution_count": null,
   "metadata": {
    "collapsed": true
   },
   "outputs": [],
   "source": []
  }
 ],
 "metadata": {
  "kernelspec": {
   "display_name": "Python 3",
   "language": "python",
   "name": "python3"
  },
  "language_info": {
   "codemirror_mode": {
    "name": "ipython",
    "version": 3
   },
   "file_extension": ".py",
   "mimetype": "text/x-python",
   "name": "python",
   "nbconvert_exporter": "python",
   "pygments_lexer": "ipython3",
   "version": "3.6.3"
  }
 },
 "nbformat": 4,
 "nbformat_minor": 2
}
