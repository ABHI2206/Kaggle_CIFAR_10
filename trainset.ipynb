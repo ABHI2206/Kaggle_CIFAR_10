{
 "cells": [
  {
   "cell_type": "code",
   "execution_count": 1,
   "metadata": {},
   "outputs": [
    {
     "name": "stderr",
     "output_type": "stream",
     "text": [
      "Using TensorFlow backend.\n"
     ]
    }
   ],
   "source": [
    "import os\n",
    "import numpy as np\n",
    "import matplotlib.image as mpimg\n",
    "import matplotlib.pyplot as plt\n",
    "from scipy import misc\n",
    "import random\n",
    "import keras"
   ]
  },
  {
   "cell_type": "code",
   "execution_count": 2,
   "metadata": {
    "scrolled": true
   },
   "outputs": [
    {
     "name": "stdout",
     "output_type": "stream",
     "text": [
      "dog\n",
      "horse\n",
      "automobile\n",
      "truck\n",
      "frog\n",
      "bird\n",
      "cat\n",
      "ship\n",
      "deer\n",
      "airplane\n"
     ]
    }
   ],
   "source": [
    "i = 0\n",
    "train_num_images = 0\n",
    "images = []\n",
    "y = []\n",
    "Y_dict = {}\n",
    "for dirnames in os.listdir(\"data/train_data\"):\n",
    "    print(dirnames)\n",
    "    Y_dict[dirnames] = i\n",
    "    for filename in os.listdir(\"data/train_data/\"+ dirnames):\n",
    "        train_num_images = train_num_images + 1\n",
    "        #print(filenames,\"\\n\")\n",
    "        # img = mpimg.imread(\"data/train_valid/\"+ dirnames + \"/\" + filename) or  img =  misc.imread(\"data/train_valid/\"+ dirnames + \"/\" + filename)\n",
    "        img =  misc.imread(\"data/train_data/\"+ dirnames + \"/\" + filename)\n",
    "#         plt.imshow(img)\n",
    "#         plt.show()\n",
    "        if img is not None:\n",
    "            images.append(img)\n",
    "            y.append(i)\n",
    "#             print(img)\n",
    "#             print(y)\n",
    "            \n",
    "    i = i + 1\n",
    "    \n"
   ]
  },
  {
   "cell_type": "code",
   "execution_count": 3,
   "metadata": {},
   "outputs": [
    {
     "name": "stdout",
     "output_type": "stream",
     "text": [
      "{'dog': 0, 'horse': 1, 'automobile': 2, 'truck': 3, 'frog': 4, 'bird': 5, 'cat': 6, 'ship': 7, 'deer': 8, 'airplane': 9}\n"
     ]
    }
   ],
   "source": [
    "print(Y_dict)\n",
    "# print(x)\n",
    "# print(y)\n",
    "# print(images)\n",
    "# plt.imshow(x[0])\n",
    "# print(y[0])\n",
    "# plt.show()\n",
    "# plt.imshow(images[1])\n",
    "# plt.show()\n",
    "# plt.imshow(images[2])\n",
    "# plt.show()\n",
    "# plt.imshow(images[3])\n",
    "# plt.show()"
   ]
  },
  {
   "cell_type": "code",
   "execution_count": null,
   "metadata": {
    "collapsed": true
   },
   "outputs": [],
   "source": []
  },
  {
   "cell_type": "code",
   "execution_count": 4,
   "metadata": {
    "scrolled": false
   },
   "outputs": [
    {
     "data": {
      "image/png": "[encoded data removed]",
      "text/plain": [
       "<matplotlib.figure.Figure at 0x7f38cddf3cc0>"
      ]
     },
     "metadata": {},
     "output_type": "display_data"
    }
   ],
   "source": [
    "c = list(zip(images, y))\n",
    "\n",
    "random.shuffle(c)\n",
    "\n",
    "X,Y = zip(*c)\n",
    "\n",
    "# print (X)\n",
    "# print (Y)\n",
    "plt.imshow(X[0])\n",
    "plt.show()\n",
    "# print(y.shape)\n",
    "\n",
    "\n",
    "# ANOTHER METHOD OF SHUFFLING BUT SHUFFLE IN PARTICULAR PATTERN DEPENDEING ON RANDOM STATE\n",
    "# from sklearn.utils import shuffle\n",
    "# X,Y = shuffle(images, y, random_state=4)\n",
    "# # print(y)\n",
    "\n",
    "# # print (X)\n",
    "# print (Y)\n",
    "# plt.imshow(X[0])\n",
    "# plt.show()\n",
    "# # print(X[0])\n",
    "# # print(y.shape)"
   ]
  },
  {
   "cell_type": "code",
   "execution_count": null,
   "metadata": {
    "collapsed": true,
    "scrolled": true
   },
   "outputs": [],
   "source": []
  },
  {
   "cell_type": "code",
   "execution_count": 5,
   "metadata": {},
   "outputs": [
    {
     "name": "stdout",
     "output_type": "stream",
     "text": [
      "(45000, 32, 32, 3)\n"
     ]
    }
   ],
   "source": [
    "#print(images)\n",
    "# print(images[0].shape)\n",
    "# print(X)\n",
    "# print(Y)\n",
    "train_set = np.reshape(X , (train_num_images,32,32,3) )\n",
    "# print(train_set)\n",
    "print(train_set.shape)\n",
    "# train_out = np.reshape(Y,(train_num_images,1))\n",
    "# print(train_out.shape)"
   ]
  },
  {
   "cell_type": "code",
   "execution_count": 6,
   "metadata": {},
   "outputs": [
    {
     "name": "stdout",
     "output_type": "stream",
     "text": [
      "(45000, 10)\n"
     ]
    }
   ],
   "source": [
    "train_out = keras.utils.to_categorical(Y,num_classes=10)\n",
    "print(train_out.shape)"
   ]
  },
  {
   "cell_type": "code",
   "execution_count": null,
   "metadata": {
    "collapsed": true
   },
   "outputs": [],
   "source": []
  },
  {
   "cell_type": "code",
   "execution_count": null,
   "metadata": {
    "collapsed": true
   },
   "outputs": [],
   "source": []
  },
  {
   "cell_type": "code",
   "execution_count": 7,
   "metadata": {
    "collapsed": true
   },
   "outputs": [],
   "source": [
    "# images = []\n",
    "# for filename in os.listdir(\"myfolder\"):\n",
    "#     img = mpimg.imread(os.path.join(\"myfolder\", filename))\n",
    "#     print(filename)\n",
    "#     if img is not None:\n",
    "#         images.append(img)\n",
    "# print(images)"
   ]
  },
  {
   "cell_type": "code",
   "execution_count": 8,
   "metadata": {
    "collapsed": true
   },
   "outputs": [],
   "source": [
    "# i = 0\n",
    "# imagess = []\n",
    "# y = []\n",
    "# for dirnames in os.listdir(\"data/train_valid\"):\n",
    "#     print(dirnames)\n",
    "#     for filename in os.listdir(\"data/train_valid/\"+ dirnames):\n",
    "#         #print(filenames,\"\\n\")\n",
    "#         img = mpimg.imread(\"data/train_valid/\"+ dirnames + \"/\" + filename)\n",
    "#         if img is not None:\n",
    "#             imagess.append(img)\n",
    "#             y.append(i)\n",
    "#     i = i + 1\n",
    "    \n"
   ]
  },
  {
   "cell_type": "code",
   "execution_count": 9,
   "metadata": {
    "collapsed": true
   },
   "outputs": [],
   "source": [
    "# print(imagess)"
   ]
  },
  {
   "cell_type": "code",
   "execution_count": null,
   "metadata": {
    "collapsed": true
   },
   "outputs": [],
   "source": []
  },
  {
   "cell_type": "code",
   "execution_count": 10,
   "metadata": {},
   "outputs": [],
   "source": [
    "# FOr valid_data\n",
    "\n",
    "i = 0\n",
    "valid_num_images = 0\n",
    "v_images = []\n",
    "v_y = []\n",
    "v_Y_dict = {}\n",
    "for v_dirnames in os.listdir(\"data/valid_data\"):\n",
    "#     print(v_dirnames)\n",
    "    v_Y_dict[v_dirnames] = i\n",
    "    for v_filename in os.listdir(\"data/valid_data/\"+ v_dirnames):\n",
    "        valid_num_images = valid_num_images + 1\n",
    "        #print(filenames,\"\\n\")\n",
    "        # img = mpimg.imread(\"data/train_valid/\"+ dirnames + \"/\" + filename) or  img =  misc.imread(\"data/train_valid/\"+ dirnames + \"/\" + filename)\n",
    "        v_img =  misc.imread(\"data/valid_data/\"+ v_dirnames + \"/\" + v_filename)\n",
    "#         plt.imshow(v_img)\n",
    "#         plt.show()\n",
    "        if img is not None:\n",
    "            v_images.append(v_img)\n",
    "            v_y.append(i)\n",
    "#             print(v_img)\n",
    "#             print(v_y)\n",
    "            \n",
    "    i = i + 1\n",
    "    \n"
   ]
  },
  {
   "cell_type": "code",
   "execution_count": 11,
   "metadata": {},
   "outputs": [
    {
     "name": "stdout",
     "output_type": "stream",
     "text": [
      "{'dog': 0, 'horse': 1, 'automobile': 2, 'truck': 3, 'frog': 4, 'bird': 5, 'cat': 6, 'ship': 7, 'deer': 8, 'airplane': 9}\n"
     ]
    }
   ],
   "source": [
    "print(v_Y_dict)"
   ]
  },
  {
   "cell_type": "code",
   "execution_count": 12,
   "metadata": {},
   "outputs": [
    {
     "data": {
      "image/png": "[encoded data removed]",
      "text/plain": [
       "<matplotlib.figure.Figure at 0x7f38c5aeada0>"
      ]
     },
     "metadata": {},
     "output_type": "display_data"
    }
   ],
   "source": [
    "v_c = list(zip(v_images, v_y))\n",
    "\n",
    "random.shuffle(v_c)\n",
    "\n",
    "v_X,v_Y = zip(*v_c)\n",
    "\n",
    "# print (v_X)\n",
    "# print (v_Y)\n",
    "plt.imshow(v_X[0])\n",
    "plt.show()"
   ]
  },
  {
   "cell_type": "code",
   "execution_count": 13,
   "metadata": {},
   "outputs": [
    {
     "name": "stdout",
     "output_type": "stream",
     "text": [
      "(5000, 32, 32, 3)\n"
     ]
    }
   ],
   "source": [
    "# print(v_Y)\n",
    "validation_set = np.reshape(v_X , (valid_num_images,32,32,3) )\n",
    "# print(train_set)\n",
    "print(validation_set.shape)\n"
   ]
  },
  {
   "cell_type": "markdown",
   "metadata": {},
   "source": [
    "**Details of the training dataset:**\n",
    "\n",
    "Images are of shape (32,32,3)\n",
    "Training: train_num_images pictures\n",
    "Valid: valid_num_images pictures\n"
   ]
  },
  {
   "cell_type": "code",
   "execution_count": 14,
   "metadata": {},
   "outputs": [
    {
     "name": "stdout",
     "output_type": "stream",
     "text": [
      "(5000, 10)\n"
     ]
    }
   ],
   "source": [
    "# print(v_Y)\n",
    "validation_out = keras.utils.to_categorical(v_Y,num_classes=10)\n",
    "print(validation_out.shape)\n",
    "# validation_out = np.reshape(v_Y , (valid_num_images,1) )\n",
    "# print(validation_out.shape)"
   ]
  },
  {
   "cell_type": "code",
   "execution_count": null,
   "metadata": {
    "collapsed": true
   },
   "outputs": [],
   "source": []
  },
  {
   "cell_type": "code",
   "execution_count": null,
   "metadata": {
    "collapsed": true
   },
   "outputs": [],
   "source": []
  },
  {
   "cell_type": "code",
   "execution_count": null,
   "metadata": {
    "collapsed": true
   },
   "outputs": [],
   "source": []
  },
  {
   "cell_type": "code",
   "execution_count": null,
   "metadata": {
    "collapsed": true,
    "scrolled": true
   },
   "outputs": [],
   "source": []
  },
  {
   "cell_type": "code",
   "execution_count": null,
   "metadata": {
    "collapsed": true
   },
   "outputs": [],
   "source": []
  },
  {
   "cell_type": "code",
   "execution_count": 15,
   "metadata": {
    "collapsed": true
   },
   "outputs": [],
   "source": [
    "def build_model(input_shape):  # input_shape here = (32,32,3)\n",
    "    X_input = keras.layers.Input(input_shape)\n",
    "    \n",
    "    X = keras.layers.Conv2D(6 ,(5,5), strides = (1,1) ,padding = 'same' , name = 'conv0')(X_input)\n",
    "    X = keras.layers.BatchNormalization(axis = 3 , name = 'bn0')(X)\n",
    "    X = keras.layers.Activation('relu')(X)\n",
    "    X = keras.layers.MaxPooling2D((2,2) , name = 'maxpool1')(X)\n",
    "    \n",
    "    X = keras.layers.Conv2D( 16,(5,5), strides = (1,1) , name = 'conv1')(X)\n",
    "    X = keras.layers.BatchNormalization(axis = 3, name = 'bn1')(X)\n",
    "    X = keras.layers.Activation('relu')(X)\n",
    "    X = keras.layers.MaxPool2D((2,2) , name = 'maxpool2')(X)\n",
    "    \n",
    "    X = keras.layers.Flatten()(X)\n",
    "    X = keras.layers.Dense(120 , activation = 'relu' , name = 'fc1')(X)\n",
    "    X = keras.layers.Dense(84 , activation = 'relu' , name = 'fc2')(X)\n",
    "    X = keras.layers.Dense(10 , activation = 'softmax' , name = 'fc3')(X)\n",
    "    \n",
    "    model = keras.models.Model(inputs = X_input , outputs = X , name = 'CifarModel')\n",
    "    return model"
   ]
  },
  {
   "cell_type": "code",
   "execution_count": 16,
   "metadata": {
    "collapsed": true
   },
   "outputs": [],
   "source": [
    "CIFARModel = build_model(train_set.shape[1:])"
   ]
  },
  {
   "cell_type": "code",
   "execution_count": 17,
   "metadata": {},
   "outputs": [
    {
     "name": "stdout",
     "output_type": "stream",
     "text": [
      "_________________________________________________________________\n",
      "Layer (type)                 Output Shape              Param #   \n",
      "=================================================================\n",
      "input_1 (InputLayer)         (None, 32, 32, 3)         0         \n",
      "_________________________________________________________________\n",
      "conv0 (Conv2D)               (None, 32, 32, 6)         456       \n",
      "_________________________________________________________________\n",
      "bn0 (BatchNormalization)     (None, 32, 32, 6)         24        \n",
      "_________________________________________________________________\n",
      "activation_1 (Activation)    (None, 32, 32, 6)         0         \n",
      "_________________________________________________________________\n",
      "maxpool1 (MaxPooling2D)      (None, 16, 16, 6)         0         \n",
      "_________________________________________________________________\n",
      "conv1 (Conv2D)               (None, 12, 12, 16)        2416      \n",
      "_________________________________________________________________\n",
      "bn1 (BatchNormalization)     (None, 12, 12, 16)        64        \n",
      "_________________________________________________________________\n",
      "activation_2 (Activation)    (None, 12, 12, 16)        0         \n",
      "_________________________________________________________________\n",
      "maxpool2 (MaxPooling2D)      (None, 6, 6, 16)          0         \n",
      "_________________________________________________________________\n",
      "flatten_1 (Flatten)          (None, 576)               0         \n",
      "_________________________________________________________________\n",
      "fc1 (Dense)                  (None, 120)               69240     \n",
      "_________________________________________________________________\n",
      "fc2 (Dense)                  (None, 84)                10164     \n",
      "_________________________________________________________________\n",
      "fc3 (Dense)                  (None, 10)                850       \n",
      "=================================================================\n",
      "Total params: 83,214\n",
      "Trainable params: 83,170\n",
      "Non-trainable params: 44\n",
      "_________________________________________________________________\n"
     ]
    }
   ],
   "source": [
    "CIFARModel.summary()"
   ]
  },
  {
   "cell_type": "code",
   "execution_count": 18,
   "metadata": {
    "collapsed": true
   },
   "outputs": [],
   "source": [
    "CIFARModel.compile(loss='categorical_crossentropy' , optimizer='adam', metrics = [\"accuracy\"])"
   ]
  },
  {
   "cell_type": "code",
   "execution_count": 19,
   "metadata": {},
   "outputs": [
    {
     "name": "stdout",
     "output_type": "stream",
     "text": [
      "Epoch 1/200\n",
      "45000/45000 [==============================] - 16s - loss: 1.4832 - acc: 0.4637    \n",
      "Epoch 2/200\n",
      "45000/45000 [==============================] - 14s - loss: 1.2098 - acc: 0.5654    \n",
      "Epoch 3/200\n",
      "45000/45000 [==============================] - 15s - loss: 1.0905 - acc: 0.6123    \n",
      "Epoch 4/200\n",
      "45000/45000 [==============================] - 14s - loss: 1.0041 - acc: 0.6451    \n",
      "Epoch 5/200\n",
      "45000/45000 [==============================] - 14s - loss: 0.9413 - acc: 0.6653    \n",
      "Epoch 6/200\n",
      "45000/45000 [==============================] - 14s - loss: 0.8905 - acc: 0.6856    \n",
      "Epoch 7/200\n",
      "45000/45000 [==============================] - 14s - loss: 0.8473 - acc: 0.6996    \n",
      "Epoch 8/200\n",
      "45000/45000 [==============================] - 15s - loss: 0.8090 - acc: 0.7132    \n",
      "Epoch 9/200\n",
      "45000/45000 [==============================] - 14s - loss: 0.7672 - acc: 0.7298    \n",
      "Epoch 10/200\n",
      "45000/45000 [==============================] - 14s - loss: 0.7345 - acc: 0.7425    \n",
      "Epoch 11/200\n",
      "45000/45000 [==============================] - 13s - loss: 0.7010 - acc: 0.7519    \n",
      "Epoch 12/200\n",
      "45000/45000 [==============================] - 13s - loss: 0.6742 - acc: 0.7600    \n",
      "Epoch 13/200\n",
      "45000/45000 [==============================] - 13s - loss: 0.6422 - acc: 0.7708    \n",
      "Epoch 14/200\n",
      "45000/45000 [==============================] - 13s - loss: 0.6170 - acc: 0.7806    \n",
      "Epoch 15/200\n",
      "45000/45000 [==============================] - 13s - loss: 0.5926 - acc: 0.7880    \n",
      "Epoch 16/200\n",
      "45000/45000 [==============================] - 13s - loss: 0.5664 - acc: 0.7983    \n",
      "Epoch 17/200\n",
      "45000/45000 [==============================] - 13s - loss: 0.5438 - acc: 0.8044    \n",
      "Epoch 18/200\n",
      "45000/45000 [==============================] - 13s - loss: 0.5217 - acc: 0.8128    \n",
      "Epoch 19/200\n",
      "45000/45000 [==============================] - 13s - loss: 0.4995 - acc: 0.8200    \n",
      "Epoch 20/200\n",
      "45000/45000 [==============================] - 13s - loss: 0.4860 - acc: 0.8270    \n",
      "Epoch 21/200\n",
      "45000/45000 [==============================] - 13s - loss: 0.4594 - acc: 0.8360    \n",
      "Epoch 22/200\n",
      "45000/45000 [==============================] - 13s - loss: 0.4420 - acc: 0.8428    \n",
      "Epoch 23/200\n",
      "45000/45000 [==============================] - 13s - loss: 0.4315 - acc: 0.8449    \n",
      "Epoch 24/200\n",
      "45000/45000 [==============================] - 13s - loss: 0.4104 - acc: 0.8527    \n",
      "Epoch 25/200\n",
      "45000/45000 [==============================] - 13s - loss: 0.3960 - acc: 0.8584    \n",
      "Epoch 26/200\n",
      "45000/45000 [==============================] - 13s - loss: 0.3816 - acc: 0.8638    \n",
      "Epoch 27/200\n",
      "45000/45000 [==============================] - 13s - loss: 0.3701 - acc: 0.8672    \n",
      "Epoch 28/200\n",
      "45000/45000 [==============================] - 13s - loss: 0.3519 - acc: 0.8745    \n",
      "Epoch 29/200\n",
      "45000/45000 [==============================] - 14s - loss: 0.3421 - acc: 0.8778    \n",
      "Epoch 30/200\n",
      "45000/45000 [==============================] - 15s - loss: 0.3310 - acc: 0.8804    \n",
      "Epoch 31/200\n",
      "45000/45000 [==============================] - 15s - loss: 0.3191 - acc: 0.8850    \n",
      "Epoch 32/200\n",
      "45000/45000 [==============================] - 16s - loss: 0.3094 - acc: 0.8883    \n",
      "Epoch 33/200\n",
      "45000/45000 [==============================] - 16s - loss: 0.2963 - acc: 0.8941    \n",
      "Epoch 34/200\n",
      "45000/45000 [==============================] - 15s - loss: 0.2894 - acc: 0.8959    \n",
      "Epoch 35/200\n",
      "45000/45000 [==============================] - 15s - loss: 0.2738 - acc: 0.9019    \n",
      "Epoch 36/200\n",
      "45000/45000 [==============================] - 15s - loss: 0.2729 - acc: 0.9018    \n",
      "Epoch 37/200\n",
      "45000/45000 [==============================] - 15s - loss: 0.2654 - acc: 0.9045    \n",
      "Epoch 38/200\n",
      "45000/45000 [==============================] - 15s - loss: 0.2527 - acc: 0.9101    \n",
      "Epoch 39/200\n",
      "45000/45000 [==============================] - 15s - loss: 0.2514 - acc: 0.9106    \n",
      "Epoch 40/200\n",
      "45000/45000 [==============================] - 15s - loss: 0.2427 - acc: 0.9118    \n",
      "Epoch 41/200\n",
      "45000/45000 [==============================] - 15s - loss: 0.2403 - acc: 0.9137    \n",
      "Epoch 42/200\n",
      "45000/45000 [==============================] - 15s - loss: 0.2299 - acc: 0.9172    \n",
      "Epoch 43/200\n",
      "45000/45000 [==============================] - 15s - loss: 0.2276 - acc: 0.9177    \n",
      "Epoch 44/200\n",
      "45000/45000 [==============================] - 15s - loss: 0.2174 - acc: 0.9227    \n",
      "Epoch 45/200\n",
      "45000/45000 [==============================] - 15s - loss: 0.2123 - acc: 0.9232    \n",
      "Epoch 46/200\n",
      "45000/45000 [==============================] - 15s - loss: 0.2061 - acc: 0.9255    \n",
      "Epoch 47/200\n",
      "45000/45000 [==============================] - 15s - loss: 0.2040 - acc: 0.9275    \n",
      "Epoch 48/200\n",
      "45000/45000 [==============================] - 15s - loss: 0.2004 - acc: 0.9283    \n",
      "Epoch 49/200\n",
      "45000/45000 [==============================] - 15s - loss: 0.1990 - acc: 0.9285    \n",
      "Epoch 50/200\n",
      "45000/45000 [==============================] - 15s - loss: 0.1901 - acc: 0.9310    \n",
      "Epoch 51/200\n",
      "45000/45000 [==============================] - 15s - loss: 0.1899 - acc: 0.9310    \n",
      "Epoch 52/200\n",
      "45000/45000 [==============================] - 15s - loss: 0.1787 - acc: 0.9371    \n",
      "Epoch 53/200\n",
      "45000/45000 [==============================] - 15s - loss: 0.1811 - acc: 0.9345    \n",
      "Epoch 54/200\n",
      "45000/45000 [==============================] - 15s - loss: 0.1735 - acc: 0.9372    \n",
      "Epoch 55/200\n",
      "45000/45000 [==============================] - 15s - loss: 0.1774 - acc: 0.9366    \n",
      "Epoch 56/200\n",
      "45000/45000 [==============================] - 15s - loss: 0.1745 - acc: 0.9373    \n",
      "Epoch 57/200\n",
      "45000/45000 [==============================] - 15s - loss: 0.1704 - acc: 0.9394    \n",
      "Epoch 58/200\n",
      "45000/45000 [==============================] - 15s - loss: 0.1620 - acc: 0.9442    \n",
      "Epoch 59/200\n",
      "45000/45000 [==============================] - 15s - loss: 0.1617 - acc: 0.9426    \n",
      "Epoch 60/200\n",
      "45000/45000 [==============================] - 15s - loss: 0.1620 - acc: 0.9419    \n",
      "Epoch 61/200\n",
      "45000/45000 [==============================] - 15s - loss: 0.1535 - acc: 0.9456    \n",
      "Epoch 62/200\n",
      "45000/45000 [==============================] - 15s - loss: 0.1562 - acc: 0.9445    \n",
      "Epoch 63/200\n",
      "45000/45000 [==============================] - 15s - loss: 0.1538 - acc: 0.9460    \n",
      "Epoch 64/200\n",
      "45000/45000 [==============================] - 15s - loss: 0.1512 - acc: 0.9468    \n",
      "Epoch 65/200\n",
      "45000/45000 [==============================] - 15s - loss: 0.1489 - acc: 0.9477    \n",
      "Epoch 66/200\n",
      "45000/45000 [==============================] - 15s - loss: 0.1462 - acc: 0.9483    \n",
      "Epoch 67/200\n",
      "45000/45000 [==============================] - 15s - loss: 0.1466 - acc: 0.9485    \n",
      "Epoch 68/200\n",
      "45000/45000 [==============================] - 15s - loss: 0.1435 - acc: 0.9503    \n",
      "Epoch 69/200\n",
      "45000/45000 [==============================] - 15s - loss: 0.1366 - acc: 0.9513    \n",
      "Epoch 70/200\n",
      "45000/45000 [==============================] - 15s - loss: 0.1357 - acc: 0.9526    \n",
      "Epoch 71/200\n",
      "45000/45000 [==============================] - 15s - loss: 0.1361 - acc: 0.9526    \n",
      "Epoch 72/200\n",
      "45000/45000 [==============================] - 15s - loss: 0.1374 - acc: 0.9511    \n",
      "Epoch 73/200\n",
      "45000/45000 [==============================] - 15s - loss: 0.1337 - acc: 0.9517    \n",
      "Epoch 74/200\n",
      "45000/45000 [==============================] - 15s - loss: 0.1332 - acc: 0.9534    \n",
      "Epoch 75/200\n",
      "45000/45000 [==============================] - 15s - loss: 0.1306 - acc: 0.9542    \n",
      "Epoch 76/200\n",
      "45000/45000 [==============================] - 15s - loss: 0.1328 - acc: 0.9549    \n",
      "Epoch 77/200\n",
      "45000/45000 [==============================] - 15s - loss: 0.1311 - acc: 0.9537    \n",
      "Epoch 78/200\n",
      "45000/45000 [==============================] - 15s - loss: 0.1146 - acc: 0.9599    \n",
      "Epoch 79/200\n",
      "45000/45000 [==============================] - 15s - loss: 0.1270 - acc: 0.9547    \n",
      "Epoch 80/200\n",
      "45000/45000 [==============================] - 15s - loss: 0.1168 - acc: 0.9591    \n",
      "Epoch 81/200\n",
      "45000/45000 [==============================] - 15s - loss: 0.1249 - acc: 0.9568    \n",
      "Epoch 82/200\n",
      "45000/45000 [==============================] - 15s - loss: 0.1202 - acc: 0.9568    \n",
      "Epoch 83/200\n",
      "45000/45000 [==============================] - 15s - loss: 0.1129 - acc: 0.9603    \n",
      "Epoch 84/200\n",
      "45000/45000 [==============================] - 15s - loss: 0.1162 - acc: 0.9609    \n",
      "Epoch 85/200\n"
     ]
    },
    {
     "name": "stdout",
     "output_type": "stream",
     "text": [
      "45000/45000 [==============================] - 16s - loss: 0.1167 - acc: 0.9592    \n",
      "Epoch 86/200\n",
      "45000/45000 [==============================] - 17s - loss: 0.1184 - acc: 0.9592    \n",
      "Epoch 87/200\n",
      "45000/45000 [==============================] - 15s - loss: 0.1172 - acc: 0.9599    \n",
      "Epoch 88/200\n",
      "45000/45000 [==============================] - 15s - loss: 0.1168 - acc: 0.9596    \n",
      "Epoch 89/200\n",
      "45000/45000 [==============================] - 16s - loss: 0.1143 - acc: 0.9606    \n",
      "Epoch 90/200\n",
      "45000/45000 [==============================] - 16s - loss: 0.1044 - acc: 0.9635    \n",
      "Epoch 91/200\n",
      "45000/45000 [==============================] - 15s - loss: 0.1126 - acc: 0.9601    \n",
      "Epoch 92/200\n",
      "45000/45000 [==============================] - 15s - loss: 0.1061 - acc: 0.9642    \n",
      "Epoch 93/200\n",
      "45000/45000 [==============================] - 17s - loss: 0.1132 - acc: 0.9611    \n",
      "Epoch 94/200\n",
      "45000/45000 [==============================] - 16s - loss: 0.1070 - acc: 0.9625    \n",
      "Epoch 95/200\n",
      "45000/45000 [==============================] - 16s - loss: 0.1047 - acc: 0.9629    \n",
      "Epoch 96/200\n",
      "45000/45000 [==============================] - 15s - loss: 0.1046 - acc: 0.9640    \n",
      "Epoch 97/200\n",
      "45000/45000 [==============================] - 16s - loss: 0.1032 - acc: 0.9641    \n",
      "Epoch 98/200\n",
      "45000/45000 [==============================] - 15s - loss: 0.1054 - acc: 0.9640    \n",
      "Epoch 99/200\n",
      "45000/45000 [==============================] - 15s - loss: 0.1047 - acc: 0.9654    \n",
      "Epoch 100/200\n",
      "45000/45000 [==============================] - 15s - loss: 0.0976 - acc: 0.9657    \n",
      "Epoch 101/200\n",
      "45000/45000 [==============================] - 14s - loss: 0.0989 - acc: 0.9660    \n",
      "Epoch 102/200\n",
      "45000/45000 [==============================] - 13s - loss: 0.0988 - acc: 0.9660    \n",
      "Epoch 103/200\n",
      "45000/45000 [==============================] - 13s - loss: 0.1005 - acc: 0.9650    \n",
      "Epoch 104/200\n",
      "45000/45000 [==============================] - 13s - loss: 0.1018 - acc: 0.9658    \n",
      "Epoch 105/200\n",
      "45000/45000 [==============================] - 13s - loss: 0.0999 - acc: 0.9650    \n",
      "Epoch 106/200\n",
      "45000/45000 [==============================] - 13s - loss: 0.0955 - acc: 0.9666    \n",
      "Epoch 107/200\n",
      "45000/45000 [==============================] - 13s - loss: 0.1036 - acc: 0.9660    \n",
      "Epoch 108/200\n",
      "45000/45000 [==============================] - 13s - loss: 0.0907 - acc: 0.9689    \n",
      "Epoch 109/200\n",
      "45000/45000 [==============================] - 13s - loss: 0.0979 - acc: 0.9668    \n",
      "Epoch 110/200\n",
      "45000/45000 [==============================] - 14s - loss: 0.0934 - acc: 0.9683    \n",
      "Epoch 111/200\n",
      "45000/45000 [==============================] - 16s - loss: 0.0929 - acc: 0.9681    \n",
      "Epoch 112/200\n",
      "45000/45000 [==============================] - 15s - loss: 0.0922 - acc: 0.9686    \n",
      "Epoch 113/200\n",
      "45000/45000 [==============================] - 15s - loss: 0.0934 - acc: 0.9670    \n",
      "Epoch 114/200\n",
      "45000/45000 [==============================] - 16s - loss: 0.0899 - acc: 0.9692    \n",
      "Epoch 115/200\n",
      "45000/45000 [==============================] - 16s - loss: 0.0904 - acc: 0.9702    \n",
      "Epoch 116/200\n",
      "45000/45000 [==============================] - 14s - loss: 0.0947 - acc: 0.9684    \n",
      "Epoch 117/200\n",
      "45000/45000 [==============================] - 14s - loss: 0.0845 - acc: 0.9713    \n",
      "Epoch 118/200\n",
      "45000/45000 [==============================] - 14s - loss: 0.0897 - acc: 0.9691    \n",
      "Epoch 119/200\n",
      "45000/45000 [==============================] - 15s - loss: 0.0905 - acc: 0.9685    \n",
      "Epoch 120/200\n",
      "45000/45000 [==============================] - 15s - loss: 0.0824 - acc: 0.9712    \n",
      "Epoch 121/200\n",
      "45000/45000 [==============================] - 15s - loss: 0.0956 - acc: 0.9674    \n",
      "Epoch 122/200\n",
      "45000/45000 [==============================] - 15s - loss: 0.0872 - acc: 0.9706    \n",
      "Epoch 123/200\n",
      "45000/45000 [==============================] - 15s - loss: 0.0854 - acc: 0.9708    \n",
      "Epoch 124/200\n",
      "45000/45000 [==============================] - 16s - loss: 0.0851 - acc: 0.9716    \n",
      "Epoch 125/200\n",
      "45000/45000 [==============================] - 17s - loss: 0.0842 - acc: 0.9711    \n",
      "Epoch 126/200\n",
      "45000/45000 [==============================] - 15s - loss: 0.0895 - acc: 0.9692    \n",
      "Epoch 127/200\n",
      "45000/45000 [==============================] - 15s - loss: 0.0815 - acc: 0.9716    \n",
      "Epoch 128/200\n",
      "45000/45000 [==============================] - 17s - loss: 0.0815 - acc: 0.9726    \n",
      "Epoch 129/200\n",
      "45000/45000 [==============================] - 16s - loss: 0.0859 - acc: 0.9702    \n",
      "Epoch 130/200\n",
      "45000/45000 [==============================] - 15s - loss: 0.0860 - acc: 0.9710    \n",
      "Epoch 131/200\n",
      "45000/45000 [==============================] - 15s - loss: 0.0801 - acc: 0.9722    \n",
      "Epoch 132/200\n",
      "45000/45000 [==============================] - 13s - loss: 0.0806 - acc: 0.9728    \n",
      "Epoch 133/200\n",
      "45000/45000 [==============================] - 15s - loss: 0.0766 - acc: 0.9729    \n",
      "Epoch 134/200\n",
      "45000/45000 [==============================] - 14s - loss: 0.0842 - acc: 0.9718    \n",
      "Epoch 135/200\n",
      "45000/45000 [==============================] - 14s - loss: 0.0811 - acc: 0.9720    \n",
      "Epoch 136/200\n",
      "45000/45000 [==============================] - 14s - loss: 0.0808 - acc: 0.9726    \n",
      "Epoch 137/200\n",
      "45000/45000 [==============================] - 14s - loss: 0.0751 - acc: 0.9737    \n",
      "Epoch 138/200\n",
      "45000/45000 [==============================] - 14s - loss: 0.0853 - acc: 0.9716    \n",
      "Epoch 139/200\n",
      "45000/45000 [==============================] - 14s - loss: 0.0813 - acc: 0.9727    \n",
      "Epoch 140/200\n",
      "45000/45000 [==============================] - 14s - loss: 0.0816 - acc: 0.9728    \n",
      "Epoch 141/200\n",
      "45000/45000 [==============================] - 14s - loss: 0.0762 - acc: 0.9732    \n",
      "Epoch 142/200\n",
      "45000/45000 [==============================] - 15s - loss: 0.0783 - acc: 0.9739    \n",
      "Epoch 143/200\n",
      "45000/45000 [==============================] - 15s - loss: 0.0747 - acc: 0.9753    \n",
      "Epoch 144/200\n",
      "45000/45000 [==============================] - 14s - loss: 0.0748 - acc: 0.9745    \n",
      "Epoch 145/200\n",
      "45000/45000 [==============================] - 14s - loss: 0.0731 - acc: 0.9751    \n",
      "Epoch 146/200\n",
      "45000/45000 [==============================] - 15s - loss: 0.0746 - acc: 0.9747    \n",
      "Epoch 147/200\n",
      "45000/45000 [==============================] - 14s - loss: 0.0793 - acc: 0.9730    \n",
      "Epoch 148/200\n",
      "45000/45000 [==============================] - 15s - loss: 0.0727 - acc: 0.9752    \n",
      "Epoch 149/200\n",
      "45000/45000 [==============================] - 15s - loss: 0.0720 - acc: 0.9757    \n",
      "Epoch 150/200\n",
      "45000/45000 [==============================] - 14s - loss: 0.0713 - acc: 0.9748    \n",
      "Epoch 151/200\n",
      "45000/45000 [==============================] - 14s - loss: 0.0724 - acc: 0.9752    \n",
      "Epoch 152/200\n",
      "45000/45000 [==============================] - 15s - loss: 0.0758 - acc: 0.9747    \n",
      "Epoch 153/200\n",
      "45000/45000 [==============================] - 15s - loss: 0.0714 - acc: 0.9756    \n",
      "Epoch 154/200\n",
      "45000/45000 [==============================] - 14s - loss: 0.0695 - acc: 0.9764    \n",
      "Epoch 155/200\n",
      "45000/45000 [==============================] - 14s - loss: 0.0702 - acc: 0.9762    \n",
      "Epoch 156/200\n",
      "45000/45000 [==============================] - 14s - loss: 0.0762 - acc: 0.9750    \n",
      "Epoch 157/200\n",
      "45000/45000 [==============================] - 14s - loss: 0.0720 - acc: 0.9755    \n",
      "Epoch 158/200\n",
      "45000/45000 [==============================] - 15s - loss: 0.0747 - acc: 0.9756    \n",
      "Epoch 159/200\n",
      "45000/45000 [==============================] - 15s - loss: 0.0678 - acc: 0.9772    \n",
      "Epoch 160/200\n",
      "45000/45000 [==============================] - 15s - loss: 0.0684 - acc: 0.9772    \n",
      "Epoch 161/200\n",
      "45000/45000 [==============================] - 15s - loss: 0.0716 - acc: 0.9755    \n",
      "Epoch 162/200\n",
      "45000/45000 [==============================] - 15s - loss: 0.0694 - acc: 0.9766    \n",
      "Epoch 163/200\n",
      "45000/45000 [==============================] - 15s - loss: 0.0695 - acc: 0.9770    \n",
      "Epoch 164/200\n",
      "45000/45000 [==============================] - 15s - loss: 0.0714 - acc: 0.9760    \n",
      "Epoch 165/200\n",
      "45000/45000 [==============================] - 15s - loss: 0.0662 - acc: 0.9778    \n",
      "Epoch 166/200\n",
      "45000/45000 [==============================] - 15s - loss: 0.0721 - acc: 0.9751    \n",
      "Epoch 167/200\n",
      "45000/45000 [==============================] - 15s - loss: 0.0617 - acc: 0.9786    \n",
      "Epoch 168/200\n"
     ]
    },
    {
     "name": "stdout",
     "output_type": "stream",
     "text": [
      "45000/45000 [==============================] - 14s - loss: 0.0706 - acc: 0.9763    \n",
      "Epoch 169/200\n",
      "45000/45000 [==============================] - 14s - loss: 0.0677 - acc: 0.9771    \n",
      "Epoch 170/200\n",
      "45000/45000 [==============================] - 14s - loss: 0.0597 - acc: 0.9793    \n",
      "Epoch 171/200\n",
      "45000/45000 [==============================] - 14s - loss: 0.0717 - acc: 0.9762    \n",
      "Epoch 172/200\n",
      "45000/45000 [==============================] - 14s - loss: 0.0659 - acc: 0.9779    \n",
      "Epoch 173/200\n",
      "45000/45000 [==============================] - 14s - loss: 0.0750 - acc: 0.9750    \n",
      "Epoch 174/200\n",
      "45000/45000 [==============================] - 14s - loss: 0.0627 - acc: 0.9789    \n",
      "Epoch 175/200\n",
      "45000/45000 [==============================] - 14s - loss: 0.0647 - acc: 0.9777    \n",
      "Epoch 176/200\n",
      "45000/45000 [==============================] - 14s - loss: 0.0607 - acc: 0.9799    \n",
      "Epoch 177/200\n",
      "45000/45000 [==============================] - 14s - loss: 0.0680 - acc: 0.9779    \n",
      "Epoch 178/200\n",
      "45000/45000 [==============================] - 14s - loss: 0.0630 - acc: 0.9790    \n",
      "Epoch 179/200\n",
      "45000/45000 [==============================] - 14s - loss: 0.0656 - acc: 0.9785    \n",
      "Epoch 180/200\n",
      "45000/45000 [==============================] - 14s - loss: 0.0680 - acc: 0.9781    \n",
      "Epoch 181/200\n",
      "45000/45000 [==============================] - 14s - loss: 0.0622 - acc: 0.9797    \n",
      "Epoch 182/200\n",
      "45000/45000 [==============================] - 14s - loss: 0.0591 - acc: 0.9803    \n",
      "Epoch 183/200\n",
      "45000/45000 [==============================] - 14s - loss: 0.0650 - acc: 0.9776    \n",
      "Epoch 184/200\n",
      "45000/45000 [==============================] - 14s - loss: 0.0617 - acc: 0.9788    \n",
      "Epoch 185/200\n",
      "45000/45000 [==============================] - 14s - loss: 0.0619 - acc: 0.9790    \n",
      "Epoch 186/200\n",
      "45000/45000 [==============================] - 14s - loss: 0.0661 - acc: 0.9778    \n",
      "Epoch 187/200\n",
      "45000/45000 [==============================] - 14s - loss: 0.0595 - acc: 0.9804    \n",
      "Epoch 188/200\n",
      "45000/45000 [==============================] - 14s - loss: 0.0602 - acc: 0.9812    \n",
      "Epoch 189/200\n",
      "45000/45000 [==============================] - 14s - loss: 0.0564 - acc: 0.9809    \n",
      "Epoch 190/200\n",
      "45000/45000 [==============================] - 14s - loss: 0.0640 - acc: 0.9780    \n",
      "Epoch 191/200\n",
      "45000/45000 [==============================] - 14s - loss: 0.0627 - acc: 0.9791    \n",
      "Epoch 192/200\n",
      "45000/45000 [==============================] - 14s - loss: 0.0651 - acc: 0.9787    \n",
      "Epoch 193/200\n",
      "45000/45000 [==============================] - 14s - loss: 0.0589 - acc: 0.9801    \n",
      "Epoch 194/200\n",
      "45000/45000 [==============================] - 14s - loss: 0.0569 - acc: 0.9809    \n",
      "Epoch 195/200\n",
      "45000/45000 [==============================] - 14s - loss: 0.0650 - acc: 0.9778    \n",
      "Epoch 196/200\n",
      "45000/45000 [==============================] - 14s - loss: 0.0574 - acc: 0.9799    \n",
      "Epoch 197/200\n",
      "45000/45000 [==============================] - 14s - loss: 0.0592 - acc: 0.9802    \n",
      "Epoch 198/200\n",
      "45000/45000 [==============================] - 14s - loss: 0.0584 - acc: 0.9812    \n",
      "Epoch 199/200\n",
      "45000/45000 [==============================] - 14s - loss: 0.0615 - acc: 0.9799    \n",
      "Epoch 200/200\n",
      "45000/45000 [==============================] - 14s - loss: 0.0592 - acc: 0.9797    \n"
     ]
    },
    {
     "data": {
      "text/plain": [
       "<keras.callbacks.History at 0x7f38bc19a1d0>"
      ]
     },
     "execution_count": 19,
     "metadata": {},
     "output_type": "execute_result"
    }
   ],
   "source": [
    "CIFARModel.fit(x = train_set ,y = train_out, epochs = 200 , batch_size = 32)"
   ]
  },
  {
   "cell_type": "code",
   "execution_count": 20,
   "metadata": {},
   "outputs": [
    {
     "name": "stdout",
     "output_type": "stream",
     "text": [
      "4704/5000 [===========================>..] - ETA: 0s\n",
      "Loss = 3.5883034523\n",
      "Test Accuracy = 0.6218\n"
     ]
    }
   ],
   "source": [
    "preds = CIFARModel.evaluate(x = validation_set, y = validation_out)\n",
    "### END CODE HERE ###\n",
    "print()\n",
    "print (\"Loss = \" + str(preds[0]))\n",
    "print (\"Test Accuracy = \" + str(preds[1]))"
   ]
  },
  {
   "cell_type": "code",
   "execution_count": null,
   "metadata": {
    "collapsed": true
   },
   "outputs": [],
   "source": []
  }
 ],
 "metadata": {
  "kernelspec": {
   "display_name": "Python 3",
   "language": "python",
   "name": "python3"
  },
  "language_info": {
   "codemirror_mode": {
    "name": "ipython",
    "version": 3
   },
   "file_extension": ".py",
   "mimetype": "text/x-python",
   "name": "python",
   "nbconvert_exporter": "python",
   "pygments_lexer": "ipython3",
   "version": "3.6.3"
  }
 },
 "nbformat": 4,
 "nbformat_minor": 2
}
