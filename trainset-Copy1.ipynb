{
 "cells": [
  {
   "cell_type": "code",
   "execution_count": 1,
   "metadata": {},
   "outputs": [
    {
     "name": "stderr",
     "output_type": "stream",
     "text": [
      "Using TensorFlow backend.\n"
     ]
    }
   ],
   "source": [
    "import os\n",
    "import numpy as np\n",
    "import matplotlib.image as mpimg\n",
    "import matplotlib.pyplot as plt\n",
    "from scipy import misc\n",
    "import random\n",
    "import keras"
   ]
  },
  {
   "cell_type": "code",
   "execution_count": 2,
   "metadata": {
    "scrolled": true
   },
   "outputs": [
    {
     "name": "stdout",
     "output_type": "stream",
     "text": [
      "dog\n",
      "horse\n",
      "automobile\n",
      "truck\n",
      "frog\n",
      "bird\n",
      "cat\n",
      "ship\n",
      "deer\n",
      "airplane\n"
     ]
    }
   ],
   "source": [
    "i = 0\n",
    "train_num_images = 0\n",
    "images = []\n",
    "y = []\n",
    "Y_dict = {}\n",
    "for dirnames in os.listdir(\"data/train_data\"):\n",
    "    print(dirnames)\n",
    "    Y_dict[dirnames] = i\n",
    "    for filename in os.listdir(\"data/train_data/\"+ dirnames):\n",
    "        train_num_images = train_num_images + 1\n",
    "        #print(filenames,\"\\n\")\n",
    "        # img = mpimg.imread(\"data/train_valid/\"+ dirnames + \"/\" + filename) or  img =  misc.imread(\"data/train_valid/\"+ dirnames + \"/\" + filename)\n",
    "        img =  misc.imread(\"data/train_data/\"+ dirnames + \"/\" + filename)\n",
    "#         plt.imshow(img)\n",
    "#         plt.show()\n",
    "        if img is not None:\n",
    "            images.append(img)\n",
    "            y.append(i)\n",
    "#             print(img)\n",
    "#             print(y)\n",
    "            \n",
    "    i = i + 1\n",
    "    \n"
   ]
  },
  {
   "cell_type": "code",
   "execution_count": 3,
   "metadata": {},
   "outputs": [
    {
     "name": "stdout",
     "output_type": "stream",
     "text": [
      "{'dog': 0, 'horse': 1, 'automobile': 2, 'truck': 3, 'frog': 4, 'bird': 5, 'cat': 6, 'ship': 7, 'deer': 8, 'airplane': 9}\n"
     ]
    }
   ],
   "source": [
    "print(Y_dict)\n",
    "# print(x)\n",
    "# print(y)\n",
    "# print(images)\n",
    "# plt.imshow(x[0])\n",
    "# print(y[0])\n",
    "# plt.show()\n",
    "# plt.imshow(images[1])\n",
    "# plt.show()\n",
    "# plt.imshow(images[2])\n",
    "# plt.show()\n",
    "# plt.imshow(images[3])\n",
    "# plt.show()"
   ]
  },
  {
   "cell_type": "code",
   "execution_count": null,
   "metadata": {
    "collapsed": true
   },
   "outputs": [],
   "source": []
  },
  {
   "cell_type": "code",
   "execution_count": 4,
   "metadata": {
    "scrolled": false
   },
   "outputs": [
    {
     "data": {
      "image/png": "[encoded data removed]",
      "text/plain": [
       "<matplotlib.figure.Figure at 0x7fa21bbd7390>"
      ]
     },
     "metadata": {},
     "output_type": "display_data"
    }
   ],
   "source": [
    "c = list(zip(images, y))\n",
    "\n",
    "random.shuffle(c)\n",
    "\n",
    "X,Y = zip(*c)\n",
    "\n",
    "# print (X)\n",
    "# print (Y)\n",
    "plt.imshow(X[0])\n",
    "plt.show()\n",
    "# print(y.shape)\n",
    "\n",
    "\n",
    "# ANOTHER METHOD OF SHUFFLING BUT SHUFFLE IN PARTICULAR PATTERN DEPENDEING ON RANDOM STATE\n",
    "# from sklearn.utils import shuffle\n",
    "# X,Y = shuffle(images, y, random_state=4)\n",
    "# # print(y)\n",
    "\n",
    "# # print (X)\n",
    "# print (Y)\n",
    "# plt.imshow(X[0])\n",
    "# plt.show()\n",
    "# # print(X[0])\n",
    "# # print(y.shape)"
   ]
  },
  {
   "cell_type": "code",
   "execution_count": null,
   "metadata": {
    "collapsed": true,
    "scrolled": true
   },
   "outputs": [],
   "source": []
  },
  {
   "cell_type": "code",
   "execution_count": 5,
   "metadata": {},
   "outputs": [
    {
     "name": "stdout",
     "output_type": "stream",
     "text": [
      "(45000, 32, 32, 3)\n"
     ]
    }
   ],
   "source": [
    "#print(images)\n",
    "# print(images[0].shape)\n",
    "# print(X)\n",
    "# print(Y)\n",
    "train_set = np.reshape(X , (train_num_images,32,32,3) )\n",
    "# print(train_set)\n",
    "print(train_set.shape)\n",
    "# train_out = np.reshape(Y,(train_num_images,1))\n",
    "# print(train_out.shape)"
   ]
  },
  {
   "cell_type": "code",
   "execution_count": 6,
   "metadata": {},
   "outputs": [
    {
     "name": "stdout",
     "output_type": "stream",
     "text": [
      "(45000, 10)\n"
     ]
    }
   ],
   "source": [
    "train_out = keras.utils.to_categorical(Y,num_classes=10)\n",
    "print(train_out.shape)"
   ]
  },
  {
   "cell_type": "code",
   "execution_count": null,
   "metadata": {
    "collapsed": true
   },
   "outputs": [],
   "source": []
  },
  {
   "cell_type": "code",
   "execution_count": null,
   "metadata": {
    "collapsed": true
   },
   "outputs": [],
   "source": []
  },
  {
   "cell_type": "code",
   "execution_count": 7,
   "metadata": {
    "collapsed": true
   },
   "outputs": [],
   "source": [
    "# images = []\n",
    "# for filename in os.listdir(\"myfolder\"):\n",
    "#     img = mpimg.imread(os.path.join(\"myfolder\", filename))\n",
    "#     print(filename)\n",
    "#     if img is not None:\n",
    "#         images.append(img)\n",
    "# print(images)"
   ]
  },
  {
   "cell_type": "code",
   "execution_count": 8,
   "metadata": {
    "collapsed": true
   },
   "outputs": [],
   "source": [
    "# i = 0\n",
    "# imagess = []\n",
    "# y = []\n",
    "# for dirnames in os.listdir(\"data/train_valid\"):\n",
    "#     print(dirnames)\n",
    "#     for filename in os.listdir(\"data/train_valid/\"+ dirnames):\n",
    "#         #print(filenames,\"\\n\")\n",
    "#         img = mpimg.imread(\"data/train_valid/\"+ dirnames + \"/\" + filename)\n",
    "#         if img is not None:\n",
    "#             imagess.append(img)\n",
    "#             y.append(i)\n",
    "#     i = i + 1\n",
    "    \n"
   ]
  },
  {
   "cell_type": "code",
   "execution_count": 9,
   "metadata": {
    "collapsed": true
   },
   "outputs": [],
   "source": [
    "# print(imagess)"
   ]
  },
  {
   "cell_type": "code",
   "execution_count": null,
   "metadata": {
    "collapsed": true
   },
   "outputs": [],
   "source": []
  },
  {
   "cell_type": "code",
   "execution_count": 10,
   "metadata": {},
   "outputs": [
    {
     "name": "stdout",
     "output_type": "stream",
     "text": [
      "dog\n",
      "horse\n",
      "automobile\n",
      "truck\n",
      "frog\n",
      "bird\n",
      "cat\n",
      "ship\n",
      "deer\n",
      "airplane\n"
     ]
    }
   ],
   "source": [
    "# FOr valid_data\n",
    "\n",
    "i = 0\n",
    "valid_num_images = 0\n",
    "v_images = []\n",
    "v_y = []\n",
    "v_Y_dict = {}\n",
    "for v_dirnames in os.listdir(\"data/valid_data\"):\n",
    "    print(v_dirnames)\n",
    "    v_Y_dict[v_dirnames] = i\n",
    "    for v_filename in os.listdir(\"data/valid_data/\"+ v_dirnames):\n",
    "        valid_num_images = valid_num_images + 1\n",
    "        #print(filenames,\"\\n\")\n",
    "        # img = mpimg.imread(\"data/train_valid/\"+ dirnames + \"/\" + filename) or  img =  misc.imread(\"data/train_valid/\"+ dirnames + \"/\" + filename)\n",
    "        v_img =  misc.imread(\"data/valid_data/\"+ v_dirnames + \"/\" + v_filename)\n",
    "#         plt.imshow(v_img)\n",
    "#         plt.show()\n",
    "        if img is not None:\n",
    "            v_images.append(v_img)\n",
    "            v_y.append(i)\n",
    "#             print(v_img)\n",
    "#             print(v_y)\n",
    "            \n",
    "    i = i + 1\n",
    "    \n"
   ]
  },
  {
   "cell_type": "code",
   "execution_count": 11,
   "metadata": {},
   "outputs": [
    {
     "name": "stdout",
     "output_type": "stream",
     "text": [
      "{'dog': 0, 'horse': 1, 'automobile': 2, 'truck': 3, 'frog': 4, 'bird': 5, 'cat': 6, 'ship': 7, 'deer': 8, 'airplane': 9}\n"
     ]
    }
   ],
   "source": [
    "print(v_Y_dict)"
   ]
  },
  {
   "cell_type": "code",
   "execution_count": 12,
   "metadata": {},
   "outputs": [
    {
     "data": {
      "image/png": "[encoded data removed]",
      "text/plain": [
       "<matplotlib.figure.Figure at 0x7fa21bbd70f0>"
      ]
     },
     "metadata": {},
     "output_type": "display_data"
    }
   ],
   "source": [
    "v_c = list(zip(v_images, v_y))\n",
    "\n",
    "random.shuffle(v_c)\n",
    "\n",
    "v_X,v_Y = zip(*v_c)\n",
    "\n",
    "# print (v_X)\n",
    "# print (v_Y)\n",
    "plt.imshow(v_X[0])\n",
    "plt.show()"
   ]
  },
  {
   "cell_type": "code",
   "execution_count": 13,
   "metadata": {},
   "outputs": [
    {
     "name": "stdout",
     "output_type": "stream",
     "text": [
      "(5000, 32, 32, 3)\n"
     ]
    }
   ],
   "source": [
    "# print(v_Y)\n",
    "validation_set = np.reshape(v_X , (valid_num_images,32,32,3) )\n",
    "# print(train_set)\n",
    "print(validation_set.shape)\n"
   ]
  },
  {
   "cell_type": "markdown",
   "metadata": {},
   "source": [
    "**Details of the training dataset:**\n",
    "\n",
    "Images are of shape (32,32,3)\n",
    "Training: train_num_images pictures\n",
    "Valid: valid_num_images pictures\n"
   ]
  },
  {
   "cell_type": "code",
   "execution_count": 14,
   "metadata": {},
   "outputs": [
    {
     "name": "stdout",
     "output_type": "stream",
     "text": [
      "(5000, 10)\n"
     ]
    }
   ],
   "source": [
    "# print(v_Y)\n",
    "validation_out = keras.utils.to_categorical(v_Y,num_classes=10)\n",
    "print(validation_out.shape)\n",
    "# validation_out = np.reshape(v_Y , (valid_num_images,1) )\n",
    "# print(validation_out.shape)"
   ]
  },
  {
   "cell_type": "code",
   "execution_count": null,
   "metadata": {
    "collapsed": true
   },
   "outputs": [],
   "source": []
  },
  {
   "cell_type": "code",
   "execution_count": null,
   "metadata": {
    "collapsed": true
   },
   "outputs": [],
   "source": []
  },
  {
   "cell_type": "code",
   "execution_count": null,
   "metadata": {
    "collapsed": true
   },
   "outputs": [],
   "source": []
  },
  {
   "cell_type": "code",
   "execution_count": null,
   "metadata": {
    "collapsed": true,
    "scrolled": true
   },
   "outputs": [],
   "source": []
  },
  {
   "cell_type": "code",
   "execution_count": null,
   "metadata": {
    "collapsed": true
   },
   "outputs": [],
   "source": []
  },
  {
   "cell_type": "code",
   "execution_count": 15,
   "metadata": {
    "collapsed": true
   },
   "outputs": [],
   "source": [
    "def build_model(input_shape):  # input_shape here = (32,32,3)\n",
    "    X_input = keras.layers.Input(input_shape)\n",
    "    \n",
    "    X = keras.layers.Conv2D(26 ,(5,5), strides = (1,1) ,padding = 'valid' , name = 'conv0')(X_input)\n",
    "    X = keras.layers.BatchNormalization(axis = 3 , name = 'bn0')(X)\n",
    "    X = keras.layers.Activation('relu')(X)\n",
    "    X = keras.layers.MaxPooling2D((2,2) , name = 'maxpool1')(X)\n",
    "    \n",
    "    X = keras.layers.ZeroPadding2D((1,1))(X)\n",
    "    X = keras.layers.Conv2D( 16,(5,5), strides = (1,1) , name = 'conv1')(X)\n",
    "    X = keras.layers.BatchNormalization(axis = 3, name = 'bn1')(X)\n",
    "    X = keras.layers.Activation('relu')(X)\n",
    "    X = keras.layers.MaxPool2D((2,2) , name = 'maxpool2')(X)\n",
    "    \n",
    "    X = keras.layers.Flatten()(X)\n",
    "    X = keras.layers.Dense(10 , activation = 'softmax' , name = 'fc')(X)\n",
    "    \n",
    "    model = keras.models.Model(inputs = X_input , outputs = X , name = 'CifarModel')\n",
    "    return model"
   ]
  },
  {
   "cell_type": "code",
   "execution_count": 16,
   "metadata": {
    "collapsed": true
   },
   "outputs": [],
   "source": [
    "CIFARModel = build_model(train_set.shape[1:])"
   ]
  },
  {
   "cell_type": "code",
   "execution_count": 17,
   "metadata": {},
   "outputs": [
    {
     "name": "stdout",
     "output_type": "stream",
     "text": [
      "_________________________________________________________________\n",
      "Layer (type)                 Output Shape              Param #   \n",
      "=================================================================\n",
      "input_1 (InputLayer)         (None, 32, 32, 3)         0         \n",
      "_________________________________________________________________\n",
      "conv0 (Conv2D)               (None, 28, 28, 26)        1976      \n",
      "_________________________________________________________________\n",
      "bn0 (BatchNormalization)     (None, 28, 28, 26)        104       \n",
      "_________________________________________________________________\n",
      "activation_1 (Activation)    (None, 28, 28, 26)        0         \n",
      "_________________________________________________________________\n",
      "maxpool1 (MaxPooling2D)      (None, 14, 14, 26)        0         \n",
      "_________________________________________________________________\n",
      "zero_padding2d_1 (ZeroPaddin (None, 16, 16, 26)        0         \n",
      "_________________________________________________________________\n",
      "conv1 (Conv2D)               (None, 12, 12, 16)        10416     \n",
      "_________________________________________________________________\n",
      "bn1 (BatchNormalization)     (None, 12, 12, 16)        64        \n",
      "_________________________________________________________________\n",
      "activation_2 (Activation)    (None, 12, 12, 16)        0         \n",
      "_________________________________________________________________\n",
      "maxpool2 (MaxPooling2D)      (None, 6, 6, 16)          0         \n",
      "_________________________________________________________________\n",
      "flatten_1 (Flatten)          (None, 576)               0         \n",
      "_________________________________________________________________\n",
      "fc (Dense)                   (None, 10)                5770      \n",
      "=================================================================\n",
      "Total params: 18,330\n",
      "Trainable params: 18,246\n",
      "Non-trainable params: 84\n",
      "_________________________________________________________________\n"
     ]
    }
   ],
   "source": [
    "CIFARModel.summary()"
   ]
  },
  {
   "cell_type": "code",
   "execution_count": 18,
   "metadata": {
    "collapsed": true
   },
   "outputs": [],
   "source": [
    "CIFARModel.compile(loss='categorical_crossentropy' , optimizer='adam', metrics = [\"accuracy\"])"
   ]
  },
  {
   "cell_type": "code",
   "execution_count": 19,
   "metadata": {},
   "outputs": [
    {
     "name": "stdout",
     "output_type": "stream",
     "text": [
      "Epoch 1/50\n",
      "45000/45000 [==============================] - 21s - loss: 1.4605 - acc: 0.4762    \n",
      "Epoch 2/50\n",
      "45000/45000 [==============================] - 20s - loss: 1.1591 - acc: 0.5943    \n",
      "Epoch 3/50\n",
      "45000/45000 [==============================] - 21s - loss: 1.0441 - acc: 0.6363    \n",
      "Epoch 4/50\n",
      "45000/45000 [==============================] - 21s - loss: 0.9761 - acc: 0.6596    \n",
      "Epoch 5/50\n",
      "45000/45000 [==============================] - 21s - loss: 0.9342 - acc: 0.6728    \n",
      "Epoch 6/50\n",
      "45000/45000 [==============================] - 21s - loss: 0.8918 - acc: 0.6919    \n",
      "Epoch 7/50\n",
      "45000/45000 [==============================] - 21s - loss: 0.8706 - acc: 0.6983    \n",
      "Epoch 8/50\n",
      "45000/45000 [==============================] - 21s - loss: 0.8444 - acc: 0.7076    \n",
      "Epoch 9/50\n",
      "45000/45000 [==============================] - 21s - loss: 0.8192 - acc: 0.7167    \n",
      "Epoch 10/50\n",
      "45000/45000 [==============================] - 21s - loss: 0.8045 - acc: 0.7208    \n",
      "Epoch 11/50\n",
      "45000/45000 [==============================] - 21s - loss: 0.7901 - acc: 0.7269    \n",
      "Epoch 12/50\n",
      "45000/45000 [==============================] - 21s - loss: 0.7767 - acc: 0.7304    \n",
      "Epoch 13/50\n",
      "45000/45000 [==============================] - 21s - loss: 0.7617 - acc: 0.7366    \n",
      "Epoch 14/50\n",
      "45000/45000 [==============================] - 21s - loss: 0.7498 - acc: 0.7408    \n",
      "Epoch 15/50\n",
      "45000/45000 [==============================] - 21s - loss: 0.7407 - acc: 0.7445    \n",
      "Epoch 16/50\n",
      "45000/45000 [==============================] - 21s - loss: 0.7288 - acc: 0.7480    \n",
      "Epoch 17/50\n",
      "45000/45000 [==============================] - 21s - loss: 0.7247 - acc: 0.7488    \n",
      "Epoch 18/50\n",
      "45000/45000 [==============================] - 21s - loss: 0.7102 - acc: 0.7531    \n",
      "Epoch 19/50\n",
      "45000/45000 [==============================] - 21s - loss: 0.7019 - acc: 0.7566    \n",
      "Epoch 20/50\n",
      "45000/45000 [==============================] - 21s - loss: 0.6998 - acc: 0.7571    \n",
      "Epoch 21/50\n",
      "45000/45000 [==============================] - 21s - loss: 0.6896 - acc: 0.7599    \n",
      "Epoch 22/50\n",
      "45000/45000 [==============================] - 21s - loss: 0.6806 - acc: 0.7646    \n",
      "Epoch 23/50\n",
      "45000/45000 [==============================] - 20s - loss: 0.6774 - acc: 0.7659    \n",
      "Epoch 24/50\n",
      "45000/45000 [==============================] - 21s - loss: 0.6699 - acc: 0.7672    \n",
      "Epoch 25/50\n",
      "45000/45000 [==============================] - 20s - loss: 0.6629 - acc: 0.7696    \n",
      "Epoch 26/50\n",
      "45000/45000 [==============================] - 20s - loss: 0.6599 - acc: 0.7691    \n",
      "Epoch 27/50\n",
      "45000/45000 [==============================] - 21s - loss: 0.6528 - acc: 0.7734    \n",
      "Epoch 28/50\n",
      "45000/45000 [==============================] - 21s - loss: 0.6498 - acc: 0.7749    \n",
      "Epoch 29/50\n",
      "45000/45000 [==============================] - 21s - loss: 0.6430 - acc: 0.7762    \n",
      "Epoch 30/50\n",
      "45000/45000 [==============================] - 20s - loss: 0.6396 - acc: 0.7784    \n",
      "Epoch 31/50\n",
      "45000/45000 [==============================] - 20s - loss: 0.6346 - acc: 0.7785    \n",
      "Epoch 32/50\n",
      "45000/45000 [==============================] - 21s - loss: 0.6282 - acc: 0.7820    \n",
      "Epoch 33/50\n",
      "45000/45000 [==============================] - 22s - loss: 0.6252 - acc: 0.7834    \n",
      "Epoch 34/50\n",
      "45000/45000 [==============================] - 22s - loss: 0.6206 - acc: 0.7836    \n",
      "Epoch 35/50\n",
      "45000/45000 [==============================] - 21s - loss: 0.6209 - acc: 0.7825    \n",
      "Epoch 36/50\n",
      "45000/45000 [==============================] - 21s - loss: 0.6142 - acc: 0.7851    \n",
      "Epoch 37/50\n",
      "45000/45000 [==============================] - 21s - loss: 0.6098 - acc: 0.7859    \n",
      "Epoch 38/50\n",
      "45000/45000 [==============================] - 20s - loss: 0.6087 - acc: 0.7872    \n",
      "Epoch 39/50\n",
      "45000/45000 [==============================] - 20s - loss: 0.6061 - acc: 0.7881    \n",
      "Epoch 40/50\n",
      "45000/45000 [==============================] - 20s - loss: 0.5987 - acc: 0.7902    \n",
      "Epoch 41/50\n",
      "45000/45000 [==============================] - 20s - loss: 0.5965 - acc: 0.7930    \n",
      "Epoch 42/50\n",
      "45000/45000 [==============================] - 21s - loss: 0.5943 - acc: 0.7919    \n",
      "Epoch 43/50\n",
      "45000/45000 [==============================] - 21s - loss: 0.5912 - acc: 0.7930    \n",
      "Epoch 44/50\n",
      "45000/45000 [==============================] - 21s - loss: 0.5879 - acc: 0.7937    \n",
      "Epoch 45/50\n",
      "45000/45000 [==============================] - 21s - loss: 0.5810 - acc: 0.7948    \n",
      "Epoch 46/50\n",
      "45000/45000 [==============================] - 20s - loss: 0.5818 - acc: 0.7939    \n",
      "Epoch 47/50\n",
      "45000/45000 [==============================] - 21s - loss: 0.5817 - acc: 0.7982    \n",
      "Epoch 48/50\n",
      "45000/45000 [==============================] - 21s - loss: 0.5752 - acc: 0.7976    \n",
      "Epoch 49/50\n",
      "45000/45000 [==============================] - 21s - loss: 0.5769 - acc: 0.7988    \n",
      "Epoch 50/50\n",
      "45000/45000 [==============================] - 21s - loss: 0.5739 - acc: 0.7991    \n"
     ]
    },
    {
     "data": {
      "text/plain": [
       "<keras.callbacks.History at 0x7fa20192fef0>"
      ]
     },
     "execution_count": 19,
     "metadata": {},
     "output_type": "execute_result"
    }
   ],
   "source": [
    "CIFARModel.fit(x = train_set ,y = train_out, epochs = 50 , batch_size = 32)"
   ]
  },
  {
   "cell_type": "code",
   "execution_count": 20,
   "metadata": {},
   "outputs": [
    {
     "name": "stdout",
     "output_type": "stream",
     "text": [
      "4864/5000 [============================>.] - ETA: 0s\n",
      "Loss = 0.974691101265\n",
      "Test Accuracy = 0.6948\n"
     ]
    }
   ],
   "source": [
    "preds = CIFARModel.evaluate(x = validation_set, y = validation_out)\n",
    "### END CODE HERE ###\n",
    "print()\n",
    "print (\"Loss = \" + str(preds[0]))\n",
    "print (\"Test Accuracy = \" + str(preds[1]))"
   ]
  },
  {
   "cell_type": "code",
   "execution_count": null,
   "metadata": {
    "collapsed": true
   },
   "outputs": [],
   "source": []
  }
 ],
 "metadata": {
  "kernelspec": {
   "display_name": "Python 3",
   "language": "python",
   "name": "python3"
  },
  "language_info": {
   "codemirror_mode": {
    "name": "ipython",
    "version": 3
   },
   "file_extension": ".py",
   "mimetype": "text/x-python",
   "name": "python",
   "nbconvert_exporter": "python",
   "pygments_lexer": "ipython3",
   "version": "3.6.3"
  }
 },
 "nbformat": 4,
 "nbformat_minor": 2
}
